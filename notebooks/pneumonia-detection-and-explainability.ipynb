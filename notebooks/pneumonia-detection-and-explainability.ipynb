{
 "cells": [
  {
   "cell_type": "markdown",
   "metadata": {
    "_cell_guid": "f2e090f0-997c-490f-b369-acb0cd218cc5",
    "_uuid": "0f9010f8-f0d8-46c8-9bc2-154d69a9a8f8"
   },
   "source": [
    "# What is Pneumonia?\n",
    "Pneumonia is an inflammatory condition of the lung affecting primarily the small air sacs known as alveoli.Symptoms typically include some combination of productive or dry cough, chest pain, fever and difficulty breathing. The severity of the condition is variable. Pneumonia is usually caused by infection with viruses or bacteria and less commonly by other microorganisms, certain medications or conditions such as autoimmune diseases. Risk factors include cystic fibrosis, chronic obstructive pulmonary disease (COPD), asthma, diabetes, heart failure, a history of smoking, a poor ability to cough such as following a stroke and a weak immune system. Diagnosis is often based on symptoms and physical examination. Chest X-ray, blood tests, and culture of the sputum may help confirm the diagnosis.The disease may be classified by where it was acquired, such as community or hospital-acquired or healthcare-associated pneumonia."
   ]
  },
  {
   "cell_type": "markdown",
   "metadata": {},
   "source": [
    "# Setup"
   ]
  },
  {
   "cell_type": "code",
   "execution_count": 1,
   "metadata": {},
   "outputs": [],
   "source": [
    "import os\n",
    "import sys\n",
    "\n",
    "if not os.path.exists(\"../data\"):\n",
    "    # import data from zip file\n",
    "    import zipfile as zf\n",
    "    files = zf.ZipFile(\"data.zip\", 'r')\n",
    "    files.extractall(\".\")\n",
    "    files.close()"
   ]
  },
  {
   "cell_type": "markdown",
   "metadata": {
    "_cell_guid": "d95f441b-26fd-49ba-be24-9ceb619de0f5",
    "_uuid": "b28540b0-4964-46cd-afe3-528d61e979eb"
   },
   "source": [
    "# Importing the necessary libraries"
   ]
  },
  {
   "cell_type": "code",
   "execution_count": 2,
   "metadata": {
    "_cell_guid": "8802c95b-596e-4d31-94c2-a1f4305c4c82",
    "_uuid": "9649b04c-8500-449c-b905-89786bf0e623",
    "scrolled": true
   },
   "outputs": [
    {
     "name": "stderr",
     "output_type": "stream",
     "text": [
      "Using TensorFlow backend.\n"
     ]
    },
    {
     "name": "stdout",
     "output_type": "stream",
     "text": [
      "1.15.0\n",
      "2.2.4\n"
     ]
    }
   ],
   "source": [
    "import numpy as np\n",
    "import pandas as pd\n",
    "import random\n",
    "import matplotlib.pyplot as plt\n",
    "%matplotlib inline\n",
    "import seaborn as sns\n",
    "import tensorflow as tf\n",
    "import keras\n",
    "import keras.backend as K\n",
    "from tqdm import tqdm\n",
    "from keras.models import Sequential, Model\n",
    "from keras.layers import Dense, Conv2D, MaxPooling2D, Flatten, Dropout, BatchNormalization\n",
    "from keras.preprocessing.image import ImageDataGenerator\n",
    "from keras.optimizers import SGD, RMSprop, Adam\n",
    "from keras.callbacks import ReduceLROnPlateau, TensorBoard\n",
    "from keras.applications.vgg16 import VGG16, preprocess_input\n",
    "from keras.applications.inception_v3 import InceptionV3\n",
    "from keras.applications.resnet50 import ResNet50\n",
    "from keras import preprocessing\n",
    "from sklearn.model_selection import train_test_split\n",
    "from sklearn.metrics import classification_report,confusion_matrix\n",
    "from sklearn.metrics import confusion_matrix\n",
    "from sklearn.utils import class_weight\n",
    "from mlxtend.plotting import plot_confusion_matrix\n",
    "import cv2\n",
    "import shutil\n",
    "import innvestigate\n",
    "import innvestigate.utils as iutils\n",
    "import innvestigate.utils.visualizations as ivis\n",
    "\n",
    "import warnings\n",
    "warnings.filterwarnings(\"ignore\")\n",
    "\n",
    "print(tf.__version__)\n",
    "print(keras.__version__)"
   ]
  },
  {
   "cell_type": "code",
   "execution_count": 4,
   "metadata": {},
   "outputs": [
    {
     "name": "stdout",
     "output_type": "stream",
     "text": [
      "GPU in use: True\n"
     ]
    },
    {
     "data": {
      "text/plain": [
       "[name: \"/device:CPU:0\"\n",
       " device_type: \"CPU\"\n",
       " memory_limit: 268435456\n",
       " locality {\n",
       " }\n",
       " incarnation: 6053733345143142031,\n",
       " name: \"/device:XLA_CPU:0\"\n",
       " device_type: \"XLA_CPU\"\n",
       " memory_limit: 17179869184\n",
       " locality {\n",
       " }\n",
       " incarnation: 1489997813663957802\n",
       " physical_device_desc: \"device: XLA_CPU device\",\n",
       " name: \"/device:XLA_GPU:0\"\n",
       " device_type: \"XLA_GPU\"\n",
       " memory_limit: 17179869184\n",
       " locality {\n",
       " }\n",
       " incarnation: 14778939102447100120\n",
       " physical_device_desc: \"device: XLA_GPU device\",\n",
       " name: \"/device:GPU:0\"\n",
       " device_type: \"GPU\"\n",
       " memory_limit: 10990990132\n",
       " locality {\n",
       "   bus_id: 2\n",
       "   numa_node: 1\n",
       "   links {\n",
       "   }\n",
       " }\n",
       " incarnation: 9270367266201808731\n",
       " physical_device_desc: \"device: 0, name: GeForce GTX 1080 Ti, pci bus id: 0000:89:00.0, compute capability: 6.1\"]"
      ]
     },
     "execution_count": 4,
     "metadata": {},
     "output_type": "execute_result"
    }
   ],
   "source": [
    "from tensorflow.python.client import device_lib\n",
    "\n",
    "os.environ[\"CUDA_DEVICE_ORDER\"] = \"PCI_BUS_ID\"\n",
    "os.environ[\"CUDA_VISIBLE_DEVICES\"] = \"0, 1\"\n",
    "\n",
    "print(\"GPU in use:\", tf.test.is_gpu_available())\n",
    "device_lib.list_local_devices()"
   ]
  },
  {
   "cell_type": "markdown",
   "metadata": {
    "_cell_guid": "8448e700-78cd-416e-9d04-d4e2c09d1b79",
    "_uuid": "a5b83882-13cf-4475-98c4-b6114cd0fa90"
   },
   "source": [
    "# Description of the Pneumonia Dataset\n",
    "The dataset is organized into 3 folders (train, test, val) and contains subfolders for each image category (Pneumonia/Normal). There are 5,863 X-Ray images (JPEG) and 2 categories (Pneumonia/Normal).\n",
    "Chest X-ray images (anterior-posterior) were selected from retrospective cohorts of pediatric patients of one to five years old from Guangzhou Women and Children’s Medical Center, Guangzhou. All chest X-ray imaging was performed as part of patients’ routine clinical care.\n",
    "For the analysis of chest x-ray images, all chest radiographs were initially screened for quality control by removing all low quality or unreadable scans. The diagnoses for the images were then graded by two expert physicians before being cleared for training the AI system. In order to account for any grading errors, the evaluation set was also checked by a third expert."
   ]
  },
  {
   "cell_type": "code",
   "execution_count": null,
   "metadata": {},
   "outputs": [],
   "source": [
    "# Split Pneumonia images into bacteria and viral infection instaces\n",
    "for dataset in os.listdir(\"../data\"):\n",
    "    if not os.path.exists(os.path.join(\"../data\", dataset, \"BACTERIA\")):\n",
    "        os.mkdir(os.path.join(\"../data\", dataset, \"BACTERIA\"))\n",
    "    if not os.path.exists(os.path.join(\"../data\", dataset, \"VIRUS\")):\n",
    "        os.mkdir(os.path.join(\"../data\", dataset, \"VIRUS\"))\n",
    "    for pneumonia in tqdm(os.listdir(os.path.join(\"../data\", dataset, \"PNEUMONIA\"))):\n",
    "        if \"virus\" in pneumonia:\n",
    "            shutil.copyfile(os.path.join(\"../data\", dataset, \"PNEUMONIA\", pneumonia), os.path.join(\"../data\", dataset, \"VIRUS\", pneumonia))\n",
    "        elif \"bacteria\" in pneumonia:\n",
    "            shutil.copyfile(os.path.join(\"../data\", dataset, \"PNEUMONIA\", pneumonia), os.path.join(\"../data\", dataset, \"BACTERIA\", pneumonia))"
   ]
  },
  {
   "cell_type": "code",
   "execution_count": null,
   "metadata": {},
   "outputs": [],
   "source": [
    "# Create 80/20 training/validation sets from data\n",
    "for i in random.sample(os.listdir(\"../data/train/VIRUS\"), 269):\n",
    "    shutil.move(os.path.join(\"../data/train/VIRUS\", i), os.path.join(\"../data/val/VIRUS\", i))\n",
    "    \n",
    "for i in random.sample(os.listdir(\"../data/train/BACTERIA\"), 507):\n",
    "    shutil.move(os.path.join(\"../data/train/BACTERIA\", i), os.path.join(\"../data/val/BACTERIA\", i))\n",
    "    \n",
    "for i in random.sample(os.listdir(\"../data/train/NORMAL\"), 270):\n",
    "    shutil.move(os.path.join(\"../data/train/NORMAL\", i), os.path.join(\"../data/val/NORMAL\", i))"
   ]
  },
  {
   "cell_type": "code",
   "execution_count": null,
   "metadata": {},
   "outputs": [],
   "source": [
    "# Class Balancing\n",
    "if not os.path.exists(os.path.join(\"../data/train\", \"BACTERIA_SUB\")):\n",
    "        os.mkdir(os.path.join(\"../data/train\", \"BACTERIA_SUB\"))\n",
    "        \n",
    "if not os.path.exists(os.path.join(\"../data/val\", \"BACTERIA_SUB\")):\n",
    "        os.mkdir(os.path.join(\"../data/val\", \"BACTERIA_SUB\"))\n",
    "\n",
    "for i in random.sample(os.listdir(\"../data/train/BACTERIA\"), 1075):\n",
    "    shutil.copyfile(os.path.join(\"../data/train/BACTERIA\", i), os.path.join(\"../data/train/BACTERIA_SUB\", i))\n",
    "    \n",
    "for i in random.sample(os.listdir(\"../data/val/BACTERIA\"), 270):\n",
    "    shutil.copyfile(os.path.join(\"../data/val/BACTERIA\", i), os.path.join(\"../data/val/BACTERIA_SUB\", i))"
   ]
  },
  {
   "cell_type": "code",
   "execution_count": null,
   "metadata": {},
   "outputs": [],
   "source": [
    "# Move more to Normal class (training)\n",
    "for i in random.sample(os.listdir(\"../data/test/NORMAL\"), 100):\n",
    "    shutil.move(os.path.join(\"../data/test/NORMAL\", i), os.path.join(\"../data/train/NORMAL\", i))\n",
    "    \n",
    "for i in random.sample(os.listdir(\"../data/train/VIRUS\"), 100):\n",
    "    shutil.move(os.path.join(\"../data/train/VIRUS\", i), os.path.join(\"../data/test/VIRUS\", i))"
   ]
  },
  {
   "cell_type": "code",
   "execution_count": 4,
   "metadata": {},
   "outputs": [
    {
     "name": "stdout",
     "output_type": "stream",
     "text": [
      "Training virus instances: 976\n",
      "Training bacteria instances: 1075\n",
      "Training normal instances: 1171\n",
      "Validation virus instances: 269\n",
      "Validation bacteria instances: 270\n",
      "Validation normal instances: 278\n",
      "Test virus instances: 248\n",
      "Test bacteria instances: 242\n",
      "Test normal instances: 134\n"
     ]
    }
   ],
   "source": [
    "print(\"Training virus instances:\", len(os.listdir(\"../data/train/VIRUS\")))\n",
    "print(\"Training bacteria instances:\", len(os.listdir(\"../data/train/BACTERIA_SUB\")))\n",
    "print(\"Training normal instances:\", len(os.listdir(\"../data/train/NORMAL\")))\n",
    "print(\"Validation virus instances:\", len(os.listdir(\"../data/val/VIRUS\")))\n",
    "print(\"Validation bacteria instances:\", len(os.listdir(\"../data/val/BACTERIA_SUB\")))\n",
    "print(\"Validation normal instances:\", len(os.listdir(\"../data/val/NORMAL\")))\n",
    "print(\"Test virus instances:\", len(os.listdir(\"../data/test/VIRUS\")))\n",
    "print(\"Test bacteria instances:\", len(os.listdir(\"../data/test/BACTERIA\")))\n",
    "print(\"Test normal instances:\", len(os.listdir(\"../data/test/NORMAL\")))"
   ]
  },
  {
   "cell_type": "code",
   "execution_count": 5,
   "metadata": {
    "_cell_guid": "060ee513-6524-45a2-a2a3-22c4e50d5215",
    "_uuid": "ff66f16d-d2a7-4db3-9f7c-3c1049814f9a"
   },
   "outputs": [],
   "source": [
    "labels = ['BACTERIA', 'VIRUS', 'NORMAL']\n",
    "#labels = [\"PNEUMONIA\", \"NORMAL\"]\n",
    "IMG_SIZE = 150\n",
    "\n",
    "def load_data(data_dir):\n",
    "    data = [] \n",
    "    for label in labels:\n",
    "        # Class Balancing\n",
    "        if label == \"BACTERIA\" and (data_dir==\"../data/train\" or data_dir==\"../data/val\"):\n",
    "            label = \"BACTERIA_SUB\"\n",
    "\n",
    "        path = os.path.join(data_dir, label)\n",
    "        class_num = labels.index(label) if label != \"BACTERIA_SUB\" else 0\n",
    "        for img in os.listdir(path):\n",
    "            try:\n",
    "                #img_arr = cv2.imread(os.path.join(path, img), cv2.IMREAD_GRAYSCALE)\n",
    "                img_arr = cv2.imread(os.path.join(path, img))\n",
    "                resized_arr = cv2.resize(img_arr, (IMG_SIZE, IMG_SIZE)) # Reshaping images to preferred size\n",
    "                data.append([resized_arr, class_num])\n",
    "            except Exception as e:\n",
    "                print(e)\n",
    "    return np.array(data)"
   ]
  },
  {
   "cell_type": "markdown",
   "metadata": {
    "_cell_guid": "b21929e0-8d58-4550-92c4-ad3832ffb443",
    "_uuid": "1c23a548-b520-44f0-a797-2a3a8ebe9a77"
   },
   "source": [
    "# Loading the Dataset"
   ]
  },
  {
   "cell_type": "code",
   "execution_count": 6,
   "metadata": {
    "_cell_guid": "f58367d5-e7b0-49e6-9798-a7e9451c34d2",
    "_kg_hide-output": true,
    "_uuid": "a3d872e9-b4fa-4bf4-abc7-5b62a47186c2"
   },
   "outputs": [],
   "source": [
    "train = load_data('../data/train')\n",
    "test = load_data('../data/test')\n",
    "val = load_data('../data/val')"
   ]
  },
  {
   "cell_type": "markdown",
   "metadata": {
    "_cell_guid": "f9990898-b1d5-45f7-bf3f-30cd1d3f0686",
    "_uuid": "6ee2302e-5fee-4370-8d9b-22daaba30aa8"
   },
   "source": [
    "# Data Visualization & Preprocessing"
   ]
  },
  {
   "cell_type": "code",
   "execution_count": 7,
   "metadata": {
    "_cell_guid": "90d81c21-205f-4fb0-927a-ec39ae22a29a",
    "_uuid": "91e3ba5b-c3b1-4c67-bcc9-02255c1235f8"
   },
   "outputs": [
    {
     "data": {
      "text/plain": [
       "<matplotlib.axes._subplots.AxesSubplot at 0x7f4fbb9e27d0>"
      ]
     },
     "execution_count": 7,
     "metadata": {},
     "output_type": "execute_result"
    },
    {
     "data": {
      "image/png": "[encoded data removed]",
      "text/plain": [
       "<Figure size 432x288 with 1 Axes>"
      ]
     },
     "metadata": {},
     "output_type": "display_data"
    }
   ],
   "source": [
    "l = []\n",
    "for i in train:\n",
    "    if (i[1] == 0):\n",
    "        l.append(\"Bacteria\")\n",
    "    elif (i[1] == 1):\n",
    "        l.append(\"Virus\")\n",
    "    else:\n",
    "        l.append(\"Normal\")\n",
    "\n",
    "sns.set_style('darkgrid')\n",
    "sns.countplot(l)"
   ]
  },
  {
   "cell_type": "markdown",
   "metadata": {
    "_cell_guid": "300cfd5c-9935-4ba2-86b5-eb0e7139c2d7",
    "_uuid": "a2ef01e2-0972-4f94-ae3f-00d4fc89b540"
   },
   "source": [
    "Previewing the images of both the classes"
   ]
  },
  {
   "cell_type": "code",
   "execution_count": 8,
   "metadata": {
    "_cell_guid": "d7923385-308f-4cf4-afac-2458db3be2dc",
    "_uuid": "1a56c118-5976-4eb4-af12-5ebae628c535",
    "scrolled": true
   },
   "outputs": [
    {
     "data": {
      "text/plain": [
       "Text(0.5, 1.0, 'NORMAL')"
      ]
     },
     "execution_count": 8,
     "metadata": {},
     "output_type": "execute_result"
    },
    {
     "data": {
      "image/png": "[encoded data removed]",
      "text/plain": [
       "<Figure size 360x360 with 1 Axes>"
      ]
     },
     "metadata": {},
     "output_type": "display_data"
    },
    {
     "data": {
      "image/png": "[encoded data removed]",
      "text/plain": [
       "<Figure size 360x360 with 1 Axes>"
      ]
     },
     "metadata": {},
     "output_type": "display_data"
    }
   ],
   "source": [
    "plt.figure(figsize=(5, 5))\n",
    "plt.imshow(train[0][0], cmap='gray')\n",
    "plt.title(labels[train[0][1]])\n",
    "\n",
    "plt.figure(figsize=(5, 5))\n",
    "plt.imshow(train[-1][0], cmap='gray')\n",
    "plt.title(labels[train[-1][1]])"
   ]
  },
  {
   "cell_type": "code",
   "execution_count": 9,
   "metadata": {
    "_cell_guid": "b3cd7dc9-3738-4b85-b017-7319d13894a1",
    "_uuid": "9aba4c59-5230-4a40-b938-3fcead77ee61"
   },
   "outputs": [
    {
     "name": "stderr",
     "output_type": "stream",
     "text": [
      "100%|██████████| 3222/3222 [00:00<00:00, 391575.32it/s]\n",
      "100%|██████████| 624/624 [00:00<00:00, 388200.19it/s]\n",
      "100%|██████████| 817/817 [00:00<00:00, 396338.93it/s]\n"
     ]
    }
   ],
   "source": [
    "x_train = []\n",
    "y_train = []\n",
    "#x_train = np.array([], dtype=\"float\")\n",
    "#y_train = np.array([], dtype=\"float\")\n",
    "\n",
    "x_val = []\n",
    "y_val = []\n",
    "#x_val = np.array([], dtype=\"float\")\n",
    "#y_val = np.array([], dtype=\"float\")\n",
    "\n",
    "x_test = []\n",
    "y_test = []\n",
    "#x_test = np.array([], dtype=\"float\")\n",
    "#x_test = np.array([], dtype=\"float\")\n",
    "\n",
    "for feature, label in tqdm(train):\n",
    "    x_train.append(feature)\n",
    "    y_train.append(label)\n",
    "    #x_train = np.append(x_train, feature)\n",
    "    #y_train = np.append(y_train, label)\n",
    "\n",
    "for feature, label in tqdm(test):\n",
    "    x_test.append(feature)\n",
    "    y_test.append(label)\n",
    "    #x_test = np.append(x_test, feature)\n",
    "    #y_test = np.append(y_test, label)\n",
    "    \n",
    "for feature, label in tqdm(val):\n",
    "    x_val.append(feature)\n",
    "    y_val.append(label)\n",
    "    #x_val = np.append(x_val, feature)\n",
    "    #y_val = np.append(x_val, label)"
   ]
  },
  {
   "cell_type": "markdown",
   "metadata": {
    "_cell_guid": "0d282c8f-6096-4458-b40f-f9aaf6ef8d80",
    "_uuid": "1f9bde07-f75e-40a6-a3f8-da407819694e"
   },
   "source": [
    "Perform normalization to reduce the effect of illumination's differences. Moreover the CNN converges faster on range [0, 1] data than on range [0, 255]"
   ]
  },
  {
   "cell_type": "code",
   "execution_count": 10,
   "metadata": {},
   "outputs": [],
   "source": [
    "x_train = np.array(x_train, dtype=\"float\")\n",
    "x_val = np.array(x_val, dtype=\"float\")\n",
    "x_test = np.array(x_test, dtype=\"float\")"
   ]
  },
  {
   "cell_type": "code",
   "execution_count": 11,
   "metadata": {
    "_cell_guid": "0004c285-9de4-47bf-a459-f675801c8208",
    "_uuid": "584955d0-fe30-4343-996d-760fef85c203"
   },
   "outputs": [],
   "source": [
    "# resize data for deep learning \n",
    "x_train = x_train.reshape(-1, IMG_SIZE, IMG_SIZE, 3)\n",
    "y_train = np.array(y_train)\n",
    "\n",
    "x_val = x_val.reshape(-1, IMG_SIZE, IMG_SIZE, 3)\n",
    "y_val = np.array(y_val)\n",
    "\n",
    "x_test = x_test.reshape(-1, IMG_SIZE, IMG_SIZE, 3)\n",
    "y_test = np.array(y_test)"
   ]
  },
  {
   "cell_type": "code",
   "execution_count": 12,
   "metadata": {
    "_cell_guid": "47387417-df3b-4f58-aee0-f53abdec8812",
    "_uuid": "c2d0926b-e9b3-4fc4-87c9-9e80777cdc6b"
   },
   "outputs": [],
   "source": [
    "def create_preprocessing_f(X, input_range=[0, 1]):\n",
    "    \"\"\"\n",
    "    Generically shifts data from interval [a, b] to interval [c, d].\n",
    "    Assumes that theoretical min and max values are populated.\n",
    "    \"\"\"\n",
    "    if len(input_range) != 2:\n",
    "        raise ValueError(\n",
    "            \"Input range must be of length 2, but was {}\".format(\n",
    "                len(input_range)))\n",
    "    if input_range[0] >= input_range[1]:\n",
    "        raise ValueError(\n",
    "            \"Values in input_range must be ascending. It is {}\".format(\n",
    "                input_range))\n",
    "\n",
    "    a, b = X.min(), X.max()\n",
    "    c, d = input_range\n",
    "\n",
    "    def preprocessing(X):\n",
    "        # shift original data to [0, b-a] (and copy)\n",
    "        X = X - a\n",
    "        # scale to new range gap [0, d-c]\n",
    "        X /= (b-a)\n",
    "        X *= (d-c)\n",
    "        # shift to desired output range\n",
    "        X += c\n",
    "        return X\n",
    "\n",
    "    def revert_preprocessing(X):\n",
    "        X = X - c\n",
    "        X /= (d-c)\n",
    "        X *= (b-a)\n",
    "        X += a\n",
    "        return X\n",
    "\n",
    "    return preprocessing, revert_preprocessing"
   ]
  },
  {
   "cell_type": "code",
   "execution_count": 13,
   "metadata": {
    "_cell_guid": "8e405045-d7de-4087-901f-8a77a33d14e8",
    "_uuid": "da1ea2a4-1300-4775-9690-b745e22775f2"
   },
   "outputs": [],
   "source": [
    "input_range = [0, 1]\n",
    "preprocess, revert_preprocessing = create_preprocessing_f(x_train, input_range)\n",
    "\n",
    "data = (\n",
    "    preprocess(x_train), y_train,\n",
    "    preprocess(x_val), y_val\n",
    ")"
   ]
  },
  {
   "cell_type": "code",
   "execution_count": 14,
   "metadata": {
    "_cell_guid": "5ec01a83-8f2f-4ec3-95d1-a8000aa3aa25",
    "_uuid": "c248abb9-6fc8-400f-a81d-8795a6d6a3ac"
   },
   "outputs": [],
   "source": [
    "num_classes = len(np.unique(data[1]))\n",
    "label_to_class_name = labels"
   ]
  },
  {
   "cell_type": "markdown",
   "metadata": {
    "_cell_guid": "24699915-63f3-42b4-95fb-8a114fd55efc",
    "_uuid": "c970aec1-0739-41d0-91cc-88a81cac7d56"
   },
   "source": [
    "# Data Augmentation\n",
    "In order to avoid overfitting problem, we need to expand artificially our dataset. We can make your existing dataset even larger. The idea is to alter the training data with small transformations to reproduce the variations.\n",
    "Approaches that alter the training data in ways that change the array representation while keeping the label the same are known as data augmentation techniques. Some popular augmentations people use are grayscales, horizontal flips, vertical flips, random crops, color jitters, translations, rotations, and much more.\n",
    "By applying just a couple of these transformations to our training data, we can easily double or triple the number of training examples and create a very robust model."
   ]
  },
  {
   "cell_type": "code",
   "execution_count": null,
   "metadata": {
    "_cell_guid": "2efe0724-f194-496f-81df-701aa4080941",
    "_uuid": "2272ec1b-2903-40f4-956c-d60ec3485821"
   },
   "outputs": [],
   "source": [
    "# With data augmentation to prevent overfitting and handling the imbalance in dataset\n",
    "\n",
    "datagen = ImageDataGenerator(\n",
    "        featurewise_center=False,  # set input mean to 0 over the dataset\n",
    "        samplewise_center=False,  # set each sample mean to 0\n",
    "        featurewise_std_normalization=False,  # divide inputs by std of the dataset\n",
    "        samplewise_std_normalization=False,  # divide each input by its std\n",
    "        zca_whitening=False,  # apply ZCA whitening\n",
    "        rotation_range = 30,  # randomly rotate images in the range (degrees, 0 to 180)\n",
    "        zoom_range = 0.2, # Randomly zoom image \n",
    "        width_shift_range=0.1,  # randomly shift images horizontally (fraction of total width)\n",
    "        height_shift_range=0.1,  # randomly shift images vertically (fraction of total height)\n",
    "        horizontal_flip = False,  # randomly flip images\n",
    "        vertical_flip=False)  # randomly flip images\n",
    "\n",
    "\n",
    "datagen.fit(data[0])"
   ]
  },
  {
   "cell_type": "markdown",
   "metadata": {
    "_cell_guid": "6e8fb490-e576-4c43-84a3-35a687ba8b1a",
    "_uuid": "d19804f0-9d03-4749-928d-ac96c6a61d70"
   },
   "source": [
    "Data Augmentation:\n",
    "1. Randomly rotate some training images by 30 degrees \n",
    "2. Randomly Zoom by 20% some training images\n",
    "3. Randomly shift images horizontally by 10% of the width \n",
    "4. Randomly shift images vertically by 10% of the height \n",
    "5. Randomly flip images horizontally.\n",
    "Once our model is ready, we fit the training dataset."
   ]
  },
  {
   "cell_type": "markdown",
   "metadata": {
    "_cell_guid": "ed8ec3be-f4a2-4865-bcba-4752e43a7c1f",
    "_uuid": "6552cefc-b481-4e23-b378-6befba95b1a8"
   },
   "source": [
    "# Training the Model"
   ]
  },
  {
   "cell_type": "markdown",
   "metadata": {},
   "source": [
    "### VGG16"
   ]
  },
  {
   "cell_type": "code",
   "execution_count": 15,
   "metadata": {},
   "outputs": [
    {
     "name": "stdout",
     "output_type": "stream",
     "text": [
      "WARNING:tensorflow:From /home/saqian/.local/lib/python3.7/site-packages/keras/backend/tensorflow_backend.py:95: The name tf.reset_default_graph is deprecated. Please use tf.compat.v1.reset_default_graph instead.\n",
      "\n",
      "WARNING:tensorflow:From /home/saqian/.local/lib/python3.7/site-packages/keras/backend/tensorflow_backend.py:98: The name tf.placeholder_with_default is deprecated. Please use tf.compat.v1.placeholder_with_default instead.\n",
      "\n",
      "WARNING:tensorflow:From /home/saqian/.local/lib/python3.7/site-packages/keras/backend/tensorflow_backend.py:102: The name tf.get_default_graph is deprecated. Please use tf.compat.v1.get_default_graph instead.\n",
      "\n",
      "WARNING:tensorflow:From /home/saqian/.local/lib/python3.7/site-packages/keras/backend/tensorflow_backend.py:517: The name tf.placeholder is deprecated. Please use tf.compat.v1.placeholder instead.\n",
      "\n",
      "WARNING:tensorflow:From /home/saqian/.local/lib/python3.7/site-packages/keras/backend/tensorflow_backend.py:4138: The name tf.random_uniform is deprecated. Please use tf.random.uniform instead.\n",
      "\n",
      "WARNING:tensorflow:From /home/saqian/.local/lib/python3.7/site-packages/keras/backend/tensorflow_backend.py:3976: The name tf.nn.max_pool is deprecated. Please use tf.nn.max_pool2d instead.\n",
      "\n",
      "WARNING:tensorflow:From /home/saqian/.local/lib/python3.7/site-packages/keras/backend/tensorflow_backend.py:174: The name tf.get_default_session is deprecated. Please use tf.compat.v1.get_default_session instead.\n",
      "\n",
      "WARNING:tensorflow:From /home/saqian/.local/lib/python3.7/site-packages/keras/backend/tensorflow_backend.py:181: The name tf.ConfigProto is deprecated. Please use tf.compat.v1.ConfigProto instead.\n",
      "\n",
      "WARNING:tensorflow:From /home/saqian/.local/lib/python3.7/site-packages/keras/backend/tensorflow_backend.py:186: The name tf.Session is deprecated. Please use tf.compat.v1.Session instead.\n",
      "\n",
      "WARNING:tensorflow:From /home/saqian/.local/lib/python3.7/site-packages/keras/backend/tensorflow_backend.py:190: The name tf.global_variables is deprecated. Please use tf.compat.v1.global_variables instead.\n",
      "\n",
      "WARNING:tensorflow:From /home/saqian/.local/lib/python3.7/site-packages/keras/backend/tensorflow_backend.py:199: The name tf.is_variable_initialized is deprecated. Please use tf.compat.v1.is_variable_initialized instead.\n",
      "\n",
      "WARNING:tensorflow:From /home/saqian/.local/lib/python3.7/site-packages/keras/backend/tensorflow_backend.py:206: The name tf.variables_initializer is deprecated. Please use tf.compat.v1.variables_initializer instead.\n",
      "\n",
      "_________________________________________________________________\n",
      "Layer (type)                 Output Shape              Param #   \n",
      "=================================================================\n",
      "input_1 (InputLayer)         (None, 150, 150, 3)       0         \n",
      "_________________________________________________________________\n",
      "block1_conv1 (Conv2D)        (None, 150, 150, 64)      1792      \n",
      "_________________________________________________________________\n",
      "block1_conv2 (Conv2D)        (None, 150, 150, 64)      36928     \n",
      "_________________________________________________________________\n",
      "block1_pool (MaxPooling2D)   (None, 75, 75, 64)        0         \n",
      "_________________________________________________________________\n",
      "block2_conv1 (Conv2D)        (None, 75, 75, 128)       73856     \n",
      "_________________________________________________________________\n",
      "block2_conv2 (Conv2D)        (None, 75, 75, 128)       147584    \n",
      "_________________________________________________________________\n",
      "block2_pool (MaxPooling2D)   (None, 37, 37, 128)       0         \n",
      "_________________________________________________________________\n",
      "block3_conv1 (Conv2D)        (None, 37, 37, 256)       295168    \n",
      "_________________________________________________________________\n",
      "block3_conv2 (Conv2D)        (None, 37, 37, 256)       590080    \n",
      "_________________________________________________________________\n",
      "block3_conv3 (Conv2D)        (None, 37, 37, 256)       590080    \n",
      "_________________________________________________________________\n",
      "block3_pool (MaxPooling2D)   (None, 18, 18, 256)       0         \n",
      "_________________________________________________________________\n",
      "block4_conv1 (Conv2D)        (None, 18, 18, 512)       1180160   \n",
      "_________________________________________________________________\n",
      "block4_conv2 (Conv2D)        (None, 18, 18, 512)       2359808   \n",
      "_________________________________________________________________\n",
      "block4_conv3 (Conv2D)        (None, 18, 18, 512)       2359808   \n",
      "_________________________________________________________________\n",
      "block4_pool (MaxPooling2D)   (None, 9, 9, 512)         0         \n",
      "_________________________________________________________________\n",
      "block5_conv1 (Conv2D)        (None, 9, 9, 512)         2359808   \n",
      "_________________________________________________________________\n",
      "block5_conv2 (Conv2D)        (None, 9, 9, 512)         2359808   \n",
      "_________________________________________________________________\n",
      "block5_conv3 (Conv2D)        (None, 9, 9, 512)         2359808   \n",
      "_________________________________________________________________\n",
      "block5_pool (MaxPooling2D)   (None, 4, 4, 512)         0         \n",
      "_________________________________________________________________\n",
      "flatten_1 (Flatten)          (None, 8192)              0         \n",
      "_________________________________________________________________\n",
      "concept (Dense)              (None, 3)                 24579     \n",
      "=================================================================\n",
      "Total params: 14,739,267\n",
      "Trainable params: 14,739,267\n",
      "Non-trainable params: 0\n",
      "_________________________________________________________________\n"
     ]
    }
   ],
   "source": [
    "# Check tensorflow/keras usage for model/layers \n",
    "K.clear_session()\n",
    "\n",
    "base_model = VGG16(weights='../models/weights/vgg16_weights_tf_dim_ordering_tf_kernels_notop.h5', include_top=False, input_shape=(IMG_SIZE, IMG_SIZE, 3))\n",
    "x = base_model.output\n",
    "x = Flatten()(x)\n",
    "x = Dense(num_classes, activation='softmax', name=\"concept\")(x)\n",
    "\n",
    "model = Model(inputs=base_model.input, outputs=x)\n",
    "\n",
    "model.summary()"
   ]
  },
  {
   "cell_type": "markdown",
   "metadata": {},
   "source": [
    "### ResNet50"
   ]
  },
  {
   "cell_type": "code",
   "execution_count": null,
   "metadata": {},
   "outputs": [],
   "source": [
    "model = Sequential()\n",
    "model.add(ResNet50(include_top=False, pooling='avg', weights='./models/weights/resnet50_weights_tf_dim_ordering_tf_kernels_notop.h5'))\n",
    "model.add(Dense(num_classes, activation='softmax'))\n",
    "\n",
    "model.layers[0].trainable = False\n",
    "model.summary()"
   ]
  },
  {
   "cell_type": "markdown",
   "metadata": {},
   "source": [
    "## Training"
   ]
  },
  {
   "cell_type": "code",
   "execution_count": 16,
   "metadata": {},
   "outputs": [
    {
     "name": "stdout",
     "output_type": "stream",
     "text": [
      "[0.99906977 1.10040984 0.91716482]\n"
     ]
    }
   ],
   "source": [
    "def w_categorical_crossentropy(y_true, y_pred, weights):\n",
    "    nb_cl = len(weights)\n",
    "    final_mask = K.zeros_like(y_pred[:, 0])\n",
    "    y_pred_max = K.max(y_pred, axis=1)\n",
    "    y_pred_max = K.reshape(y_pred_max, (K.shape(y_pred)[0], 1))\n",
    "    y_pred_max_mat = K.cast(K.equal(y_pred, y_pred_max), K.floatx())\n",
    "    for c_p, c_t in product(range(nb_cl), range(nb_cl)):\n",
    "        final_mask += (weights[c_t, c_p] * y_pred_max_mat[:, c_p] * y_true[:, c_t])\n",
    "    return K.categorical_crossentropy(y_pred, y_true) * final_mask\n",
    "\n",
    "\n",
    "w_array = np.ones((2, 2))\n",
    "w_array[1, 0] = 30 # penalizing false negative\n",
    "w_array[0, 1] = 1 # penalizing false positive\n",
    "\n",
    "spec_loss = lambda y_true, y_pred: w_categorical_crossentropy(y_true, y_pred, weights=w_array)\n",
    "\n",
    "y_labels = np.argmax(keras.utils.to_categorical(data[1], num_classes), axis=1)\n",
    "classweight = class_weight.compute_class_weight(\"balanced\", np.unique(y_labels), y_labels)\n",
    "print(classweight)"
   ]
  },
  {
   "cell_type": "code",
   "execution_count": 17,
   "metadata": {
    "_cell_guid": "fc59f6e3-1c96-4be3-97cb-d289f658dab9",
    "_uuid": "b941fb95-5536-49c9-8556-ab6ec381873d"
   },
   "outputs": [],
   "source": [
    "%load_ext tensorboard\n",
    "learning_rate_reduction = ReduceLROnPlateau(monitor=\"val_acc\", \n",
    "                                            factor=0.3, \n",
    "                                            #epsilon=0.0001, \n",
    "                                            patience=3, \n",
    "                                            verbose=1, \n",
    "                                            min_lr=0.000001)\n",
    "\n",
    "tensorboard_callback = TensorBoard(log_dir=\"logs\", \n",
    "                                   histogram_freq=1, \n",
    "                                   write_graph=False, \n",
    "                                   update_freq=\"epoch\")"
   ]
  },
  {
   "cell_type": "code",
   "execution_count": 18,
   "metadata": {},
   "outputs": [
    {
     "name": "stdout",
     "output_type": "stream",
     "text": [
      "Layer 0: input_1, Trainable: False\n",
      "Layer 1: block1_conv1, Trainable: False\n",
      "Layer 2: block1_conv2, Trainable: False\n",
      "Layer 3: block1_pool, Trainable: False\n",
      "Layer 4: block2_conv1, Trainable: False\n",
      "Layer 5: block2_conv2, Trainable: False\n",
      "Layer 6: block2_pool, Trainable: False\n",
      "Layer 7: block3_conv1, Trainable: False\n",
      "Layer 8: block3_conv2, Trainable: False\n",
      "Layer 9: block3_conv3, Trainable: False\n",
      "Layer 10: block3_pool, Trainable: False\n",
      "Layer 11: block4_conv1, Trainable: False\n",
      "Layer 12: block4_conv2, Trainable: False\n",
      "Layer 13: block4_conv3, Trainable: False\n",
      "Layer 14: block4_pool, Trainable: False\n",
      "Layer 15: block5_conv1, Trainable: False\n",
      "Layer 16: block5_conv2, Trainable: False\n",
      "Layer 17: block5_conv3, Trainable: False\n",
      "Layer 18: block5_pool, Trainable: False\n",
      "Layer 19: flatten_1, Trainable: True\n",
      "Layer 20: concept, Trainable: True\n"
     ]
    }
   ],
   "source": [
    "# freeze pretrained layers during initial training\n",
    "for layer in model.layers[0:19]:\n",
    "    layer.trainable = False\n",
    "    \n",
    "for i, layer in enumerate(model.layers):\n",
    "        print(\"Layer {}: {}, Trainable: {}\".format(i, layer.name, layer.trainable))"
   ]
  },
  {
   "cell_type": "code",
   "execution_count": 19,
   "metadata": {},
   "outputs": [
    {
     "name": "stdout",
     "output_type": "stream",
     "text": [
      "WARNING:tensorflow:From /home/saqian/.local/lib/python3.7/site-packages/keras/optimizers.py:790: The name tf.train.Optimizer is deprecated. Please use tf.compat.v1.train.Optimizer instead.\n",
      "\n",
      "WARNING:tensorflow:From /home/saqian/.local/lib/python3.7/site-packages/keras/backend/tensorflow_backend.py:3295: The name tf.log is deprecated. Please use tf.math.log instead.\n",
      "\n",
      "WARNING:tensorflow:From /opt/conda/lib/python3.7/site-packages/tensorflow_core/python/ops/math_grad.py:1424: where (from tensorflow.python.ops.array_ops) is deprecated and will be removed in a future version.\n",
      "Instructions for updating:\n",
      "Use tf.where in 2.0, which has the same broadcast rule as np.where\n",
      "WARNING:tensorflow:From /home/saqian/.local/lib/python3.7/site-packages/keras/backend/tensorflow_backend.py:986: The name tf.assign_add is deprecated. Please use tf.compat.v1.assign_add instead.\n",
      "\n",
      "WARNING:tensorflow:From /home/saqian/.local/lib/python3.7/site-packages/keras/backend/tensorflow_backend.py:973: The name tf.assign is deprecated. Please use tf.compat.v1.assign instead.\n",
      "\n",
      "Train on 3222 samples, validate on 817 samples\n",
      "Epoch 1/20\n",
      "3222/3222 [==============================] - 11s 3ms/step - loss: 0.9594 - acc: 0.5627 - val_loss: 0.8404 - val_acc: 0.6585\n",
      "Epoch 2/20\n",
      "3222/3222 [==============================] - 5s 2ms/step - loss: 0.7546 - acc: 0.7253 - val_loss: 0.7102 - val_acc: 0.7246\n",
      "Epoch 3/20\n",
      "3222/3222 [==============================] - 5s 2ms/step - loss: 0.6608 - acc: 0.7585 - val_loss: 0.6512 - val_acc: 0.7466\n",
      "Epoch 4/20\n",
      "3222/3222 [==============================] - 5s 2ms/step - loss: 0.6080 - acc: 0.7691 - val_loss: 0.6113 - val_acc: 0.7479\n",
      "Epoch 5/20\n",
      "3222/3222 [==============================] - 5s 2ms/step - loss: 0.5741 - acc: 0.7800 - val_loss: 0.5891 - val_acc: 0.7515\n",
      "Epoch 6/20\n",
      "3222/3222 [==============================] - 5s 2ms/step - loss: 0.5506 - acc: 0.7812 - val_loss: 0.5659 - val_acc: 0.7638\n",
      "Epoch 7/20\n",
      "3222/3222 [==============================] - 5s 2ms/step - loss: 0.5321 - acc: 0.7896 - val_loss: 0.5500 - val_acc: 0.7699\n",
      "Epoch 8/20\n",
      "3222/3222 [==============================] - 5s 2ms/step - loss: 0.5197 - acc: 0.7883 - val_loss: 0.5393 - val_acc: 0.7748\n",
      "Epoch 9/20\n",
      "3222/3222 [==============================] - 5s 1ms/step - loss: 0.5063 - acc: 0.7955 - val_loss: 0.5338 - val_acc: 0.7723\n",
      "Epoch 10/20\n",
      "3222/3222 [==============================] - 5s 2ms/step - loss: 0.4968 - acc: 0.7998 - val_loss: 0.5261 - val_acc: 0.7736\n",
      "Epoch 11/20\n",
      "3222/3222 [==============================] - 5s 2ms/step - loss: 0.4888 - acc: 0.7952 - val_loss: 0.5178 - val_acc: 0.7858\n",
      "Epoch 12/20\n",
      "3222/3222 [==============================] - 5s 2ms/step - loss: 0.4801 - acc: 0.8038 - val_loss: 0.5113 - val_acc: 0.7895\n",
      "Epoch 13/20\n",
      "3222/3222 [==============================] - 5s 2ms/step - loss: 0.4720 - acc: 0.8079 - val_loss: 0.5082 - val_acc: 0.7870\n",
      "Epoch 14/20\n",
      "3222/3222 [==============================] - 5s 2ms/step - loss: 0.4663 - acc: 0.8079 - val_loss: 0.5014 - val_acc: 0.7895\n",
      "Epoch 15/20\n",
      "3222/3222 [==============================] - 5s 2ms/step - loss: 0.4607 - acc: 0.8116 - val_loss: 0.5008 - val_acc: 0.7834\n",
      "\n",
      "Epoch 00015: ReduceLROnPlateau reducing learning rate to 2.9999999242136255e-05.\n",
      "Epoch 16/20\n",
      "3222/3222 [==============================] - 5s 2ms/step - loss: 0.4547 - acc: 0.8163 - val_loss: 0.4963 - val_acc: 0.7907\n",
      "Epoch 17/20\n",
      "3222/3222 [==============================] - 5s 2ms/step - loss: 0.4523 - acc: 0.8128 - val_loss: 0.4951 - val_acc: 0.7907\n",
      "Epoch 18/20\n",
      "3222/3222 [==============================] - 5s 2ms/step - loss: 0.4505 - acc: 0.8135 - val_loss: 0.4941 - val_acc: 0.7919\n",
      "Epoch 19/20\n",
      "3222/3222 [==============================] - 5s 2ms/step - loss: 0.4492 - acc: 0.8135 - val_loss: 0.4917 - val_acc: 0.7931\n",
      "Epoch 20/20\n",
      "3222/3222 [==============================] - 5s 2ms/step - loss: 0.4473 - acc: 0.8175 - val_loss: 0.4927 - val_acc: 0.7895\n"
     ]
    }
   ],
   "source": [
    "ohe_y_train = keras.utils.to_categorical(data[1], num_classes)\n",
    "ohe_y_val = keras.utils.to_categorical(data[3], num_classes)\n",
    "\n",
    "\n",
    "EPOCHS = 20\n",
    "BATCH_SIZE = 64\n",
    "\n",
    "optimizer = Adam(lr=0.0001)\n",
    "\n",
    "model.compile(loss=\"categorical_crossentropy\",     #  loss=spec_loss,\n",
    "              optimizer=optimizer, \n",
    "              metrics=[\"accuracy\"])\n",
    "\n",
    "history = model.fit(x=data[0], y=ohe_y_train,\n",
    "                    class_weight=classweight,\n",
    "                    validation_data=(data[2], ohe_y_val),\n",
    "                    shuffle=True,\n",
    "                    callbacks=[learning_rate_reduction],\n",
    "                    batch_size=BATCH_SIZE,\n",
    "                    epochs=EPOCHS,\n",
    "                    verbose=1)"
   ]
  },
  {
   "cell_type": "code",
   "execution_count": null,
   "metadata": {},
   "outputs": [],
   "source": [
    "# unfreeze pretrained layers during second round of training\n",
    "for layer in model.layers[0:18]:\n",
    "    layer.trainable = True\n",
    "    \n",
    "for i, layer in enumerate(model.layers):\n",
    "        print(\"Layer {}: {}, Trainable: {}\".format(i, layer.name, layer.trainable))"
   ]
  },
  {
   "cell_type": "code",
   "execution_count": null,
   "metadata": {},
   "outputs": [],
   "source": [
    "optimizer = Adam(lr=0.00001)\n",
    "\n",
    "model.compile(loss=\"categorical_crossentropy\",     #  loss=spec_loss,\n",
    "              optimizer=optimizer, \n",
    "              metrics=[\"accuracy\"])\n",
    "\n",
    "\n",
    "history_2 = model.fit(x=data[0], y=ohe_y_train,\n",
    "                    class_weight=classweight,\n",
    "                    validation_data=(data[2], ohe_y_val),\n",
    "                    shuffle=True,\n",
    "                    callbacks=[learning_rate_reduction],\n",
    "                    batch_size=BATCH_SIZE,\n",
    "                    epochs=EPOCHS,\n",
    "                    verbose=1)"
   ]
  },
  {
   "cell_type": "code",
   "execution_count": null,
   "metadata": {
    "_cell_guid": "92ca35f6-6ced-43d6-800b-67a01e7a21e3",
    "_uuid": "0a269acc-6ba7-4eb9-b935-ac9e7a107528"
   },
   "outputs": [],
   "source": [
    "# FOR TESTING/DEBUGGING #\n",
    "'''\n",
    "model = keras.models.Sequential([\n",
    "    keras.layers.Conv2D(32, (3, 3), activation=\"relu\", input_shape=(150, 150, 1)),\n",
    "    keras.layers.Conv2D(64, (3, 3), activation=\"relu\"),\n",
    "    keras.layers.MaxPool2D((2, 2)),\n",
    "    keras.layers.Flatten(),\n",
    "    keras.layers.Dense(512, activation=\"relu\"),\n",
    "    keras.layers.Dense(num_classes, activation=\"softmax\")\n",
    "])\n",
    "\n",
    "model = keras.models.Sequential([\n",
    "    keras.layers.Conv2D(32, (3, 3), strides=1, padding='same', activation='relu', input_shape=(IMG_SIZE, IMG_SIZE, 1)),\n",
    "    keras.layers.BatchNormalization(),\n",
    "    keras.layers.MaxPool2D((2, 2), strides=2, padding='same'),\n",
    "    keras.layers.Conv2D(64, (3, 3), strides=1, padding='same', activation='relu'),\n",
    "    keras.layers.Dropout(0.1),\n",
    "    keras.layers.BatchNormalization(),\n",
    "    keras.layers.MaxPool2D((2, 2), strides=2, padding='same'),\n",
    "    keras.layers.Conv2D(64, (3, 3), strides=1, padding='same', activation='relu'),\n",
    "    keras.layers.BatchNormalization(),\n",
    "    keras.layers.MaxPool2D((2, 2), strides=2, padding='same'),\n",
    "    keras.layers.Conv2D(128, (3, 3), strides=1, padding='same', activation='relu'),\n",
    "    keras.layers.Dropout(0.2),\n",
    "    keras.layers.BatchNormalization(),\n",
    "    keras.layers.MaxPool2D((2, 2), strides=2, padding='same'),\n",
    "    keras.layers.Conv2D(256, (3, 3), strides=1, padding='same', activation='relu'),\n",
    "    keras.layers.Dropout(0.2),\n",
    "    keras.layers.BatchNormalization(),\n",
    "    keras.layers.MaxPool2D((2, 2), strides=2, padding='same'),\n",
    "    keras.layers.Flatten(),\n",
    "    keras.layers.Dense(units=256, activation='relu'),\n",
    "    keras.layers.Dropout(0.2),\n",
    "    keras.layers.Dense(units=num_classes, activation='softmax') \n",
    "])\n",
    "\n",
    "\n",
    "#sparse_categorical_corssentropy for non one-hot encoded output\n",
    "model.compile(optimizer='adam', loss='categorical_crossentropy', metrics=['accuracy'])\n",
    "#model.compile(optimizer='rmsprop', loss='categorical_crossentropy', metrics=['accuracy'])\n",
    "print(model.summary())\n",
    "\n",
    "\n",
    "EPOCHS = 50\n",
    "BATCH_SIZE = 32\n",
    "\n",
    "ohe_y_train = keras.utils.to_categorical(data[1], num_classes)\n",
    "ohe_y_val = keras.utils.to_categorical(data[3], num_classes)\n",
    "\n",
    "history = model.fit(data[0], ohe_y_train,\n",
    "                    batch_size=BATCH_SIZE,\n",
    "                    epochs=EPOCHS,\n",
    "                    validation_data = (data[2], ohe_y_val),\n",
    "                    callbacks=[learning_rate_reduction],\n",
    "                    verbose=1)\n",
    "                    \n",
    "\n",
    "init = tf.global_variables_initializer()\n",
    "\n",
    "with tf.Session() as sess:\n",
    "    sess.run(init)\n",
    "    history = model.fit_generator(datagen.flow(data[0], ohe_y_train, batch_size = BATCH_SIZE),\n",
    "                                  epochs = EPOCHS, \n",
    "                                  steps_per_epoch = data[0].shape[0]//BATCH_SIZE,\n",
    "                                  validation_data = datagen.flow(data[2], ohe_y_val),\n",
    "                                  validation_steps = data[2].shape[0]//BATCH_SIZE,\n",
    "                                  #callbacks = [learning_rate_reduction],\n",
    "                                  verbose=1)\n",
    "'''"
   ]
  },
  {
   "cell_type": "markdown",
   "metadata": {},
   "source": [
    "Evaluate model on test data"
   ]
  },
  {
   "cell_type": "code",
   "execution_count": null,
   "metadata": {
    "scrolled": true
   },
   "outputs": [],
   "source": [
    "input_range = [0, 1]\n",
    "preprocess, revert_preprocessing = create_preprocessing_f(x_test, input_range)\n",
    "x_test = preprocess(x_test)\n",
    "ohe_y_test = keras.utils.to_categorical(y_test, num_classes)\n",
    "\n",
    "print(\"Testing Loss:\" , model.evaluate(x_test, ohe_y_test)[0])\n",
    "print(\"Testing Accuracy:\" , model.evaluate(x_test, ohe_y_test)[1]*100 , \"%\")"
   ]
  },
  {
   "cell_type": "markdown",
   "metadata": {
    "_cell_guid": "08479f91-4711-48a0-b280-1bffd1bf8227",
    "_uuid": "0f7c285a-cde4-4909-92a9-fd4912ddb341"
   },
   "source": [
    "# Model Performance Analysis"
   ]
  },
  {
   "cell_type": "markdown",
   "metadata": {},
   "source": [
    "Training and Validation Loss/Accuracy per epoch"
   ]
  },
  {
   "cell_type": "code",
   "execution_count": null,
   "metadata": {
    "_cell_guid": "96efc278-6a46-4317-a53a-885c923976f2",
    "_uuid": "847f287e-ad11-4b08-97eb-348ee880ca74"
   },
   "outputs": [],
   "source": [
    "epochs = [i for i in range(EPOCHS)]\n",
    "\n",
    "fig , ax = plt.subplots(1, 2)\n",
    "train_acc = history.history['acc']\n",
    "train_loss = history.history['loss']\n",
    "val_acc = history.history['val_acc']\n",
    "val_loss = history.history['val_loss']\n",
    "fig.set_size_inches(20, 10)\n",
    "\n",
    "ax[0].plot(epochs, train_acc , 'go-' , label = 'Training Accuracy')\n",
    "ax[0].plot(epochs, val_acc , 'ro-' , label = 'Validation Accuracy')\n",
    "ax[0].set_title('Training & Validation Accuracy')\n",
    "ax[0].legend()\n",
    "ax[0].set_xlabel(\"Epochs\")\n",
    "ax[0].set_ylabel(\"Accuracy\")\n",
    "\n",
    "ax[1].plot(epochs , train_loss , 'g-o' , label = 'Training Loss')\n",
    "ax[1].plot(epochs , val_loss , 'r-o' , label = 'Validation Loss')\n",
    "ax[1].set_title('Training & Validation Loss')\n",
    "ax[1].legend()\n",
    "ax[1].set_xlabel(\"Epochs\")\n",
    "ax[1].set_ylabel(\"Loss\")\n",
    "plt.show()"
   ]
  },
  {
   "cell_type": "code",
   "execution_count": null,
   "metadata": {
    "_cell_guid": "5d022979-fcb1-43f7-a7ea-c286b16a11cf",
    "_uuid": "def5475d-da2c-4aa3-b4fd-e0548c2644dc"
   },
   "outputs": [],
   "source": [
    "#predictions = model.predict_classes(x_test)\n",
    "predictions = model.predict(x_test).argmax(axis=-1)\n",
    "predictions = predictions.reshape(1, -1)[0]\n",
    "predictions[:15]"
   ]
  },
  {
   "cell_type": "code",
   "execution_count": null,
   "metadata": {
    "_cell_guid": "dd17599d-01a0-44b8-8513-90f4cf68c7f3",
    "_uuid": "859ab076-12f8-43bc-8fd0-6ac4446cca21",
    "scrolled": true
   },
   "outputs": [],
   "source": [
    "print(classification_report(y_test, predictions, target_names = labels))"
   ]
  },
  {
   "cell_type": "code",
   "execution_count": null,
   "metadata": {
    "_cell_guid": "54af4ea8-fbd2-4424-9928-490c7b280224",
    "_uuid": "28425968-2b0f-4f4f-9f03-9bf26544dba0"
   },
   "outputs": [],
   "source": [
    "cm = confusion_matrix(y_test, predictions)\n",
    "cm"
   ]
  },
  {
   "cell_type": "code",
   "execution_count": null,
   "metadata": {
    "_cell_guid": "b7ed0f28-abe8-4c44-b7d1-7b9dce0747fa",
    "_uuid": "1205f8d7-392b-4e1b-8f75-396d549d7ba0"
   },
   "outputs": [],
   "source": [
    "cm = pd.DataFrame(cm , index = ['0', '1', '2'] , columns = ['0', '1', '2'])"
   ]
  },
  {
   "cell_type": "code",
   "execution_count": null,
   "metadata": {
    "_cell_guid": "e7307e55-7ded-444d-add1-6a4632d619d8",
    "_uuid": "59bddbb3-d2f1-49ac-ba14-2e0ac1e3faf6"
   },
   "outputs": [],
   "source": [
    "plt.figure(figsize = (10,10))\n",
    "sns.heatmap(cm,cmap= \"Blues\", linecolor = 'black' , linewidth = 1 , annot = True, fmt='',xticklabels = labels,yticklabels = labels)"
   ]
  },
  {
   "cell_type": "code",
   "execution_count": null,
   "metadata": {
    "scrolled": false
   },
   "outputs": [],
   "source": [
    "correct = np.nonzero(predictions == y_test)[0]\n",
    "incorrect = np.nonzero(predictions != y_test)[0]\n",
    "print(\"Correct:\", len(correct))\n",
    "print(\"Incorrect:\", len(incorrect))\n",
    "\n",
    "y_pred = model.predict(x_test)\n",
    "# to get the prediction, we pick the class with with the highest probability\n",
    "y_pred_classes = np.argmax(y_pred, axis = 1) \n",
    "y_true = np.argmax(keras.utils.to_categorical(y_test, num_classes), axis = 1) \n",
    "\n",
    "\n",
    "conf_mtx = confusion_matrix(y_true, y_pred_classes) \n",
    "plot_confusion_matrix(conf_mtx, figsize=(12,8), hide_ticks=True, cmap=plt.cm.Blues)\n",
    "plt.xticks(range(3), labels, fontsize=16)\n",
    "plt.yticks(range(3), labels, fontsize=16)\n",
    "plt.show()"
   ]
  },
  {
   "cell_type": "code",
   "execution_count": null,
   "metadata": {
    "_cell_guid": "7f7e4ad3-a278-42a7-b12f-f052a8dc65dc",
    "_uuid": "cf73ab8a-01d1-4493-a802-62f0d66fcc71"
   },
   "outputs": [],
   "source": [
    "i = 0\n",
    "for c in correct[:6]:\n",
    "    plt.subplot(3,2,i+1)\n",
    "    plt.xticks([])\n",
    "    plt.yticks([])\n",
    "    plt.imshow(x_test[c].reshape(150, 150, 3), cmap=\"gray\", interpolation='none')\n",
    "    plt.title(\"Predicted: {}, Actual: {}\".format(predictions[c], y_test[c]))\n",
    "    plt.tight_layout()\n",
    "    i += 1"
   ]
  },
  {
   "cell_type": "markdown",
   "metadata": {
    "_cell_guid": "de322147-1fd8-4aa6-8702-7f7665bb8fd2",
    "_uuid": "e72bbd6f-e5d4-4070-8e9d-180738aa25e7"
   },
   "source": [
    "**Some of the Incorrectly Predicted Classes**"
   ]
  },
  {
   "cell_type": "code",
   "execution_count": null,
   "metadata": {
    "_cell_guid": "966af3ee-a123-414e-a3cc-83643d5cc5b3",
    "_uuid": "fa7bd751-cbef-409f-90d4-88fdaa0a1d8a"
   },
   "outputs": [],
   "source": [
    "i = 0\n",
    "for c in incorrect[:6]:\n",
    "    plt.subplot(3,2,i+1)\n",
    "    plt.xticks([])\n",
    "    plt.yticks([])\n",
    "    plt.imshow(x_test[c].reshape(150, 150, 3), cmap=\"gray\", interpolation='none')\n",
    "    plt.title(\"Predicted: {}, Actual: {}\".format(predictions[c], y_test[c]))\n",
    "    plt.tight_layout()\n",
    "    i += 1"
   ]
  },
  {
   "cell_type": "markdown",
   "metadata": {},
   "source": [
    "# Layer-wise Relevance Propagation"
   ]
  },
  {
   "cell_type": "code",
   "execution_count": null,
   "metadata": {
    "_cell_guid": "2a61eb38-37f4-4567-9984-1187d5ec1e03",
    "_uuid": "f3155634-7a24-4050-b1f2-02b9c1f9cb63"
   },
   "outputs": [],
   "source": [
    "def postprocess(X):\n",
    "    X = X.copy()\n",
    "    X = iutils.postprocess_images(X)\n",
    "    return X\n",
    "\n",
    "\n",
    "def bk_proj(X):\n",
    "    return ivis.graymap(X)\n",
    "\n",
    "\n",
    "def heatmap(X):\n",
    "    return ivis.heatmap(X)\n",
    "\n",
    "\n",
    "def graymap(X):\n",
    "    return ivis.graymap(np.abs(X))"
   ]
  },
  {
   "cell_type": "code",
   "execution_count": null,
   "metadata": {
    "_cell_guid": "67d13948-f3f7-414a-bc55-8cc7ed9c4817",
    "_uuid": "b6792905-9edb-4ad6-8369-f2d3402287b5"
   },
   "outputs": [],
   "source": [
    "# Scale to [0, 1] range for plotting.\n",
    "def input_postprocessing(X):\n",
    "    #return revert_preprocessing(X)\n",
    "    return revert_preprocessing(X) / 255\n",
    "\n",
    "noise_scale = (input_range[1]-input_range[0]) * 0.1\n",
    "ri = input_range[0]  # reference input\n",
    "\n",
    "# Configure analysis methods and properties\n",
    "methods = [\n",
    "    # NAME                    OPT.PARAMS                POSTPROC FXN               TITLE\n",
    "\n",
    "    # Show input\n",
    "    (\"input\",                 {},                       input_postprocessing,      \"Input\"),\n",
    "\n",
    "    # Signal\n",
    "    (\"deconvnet\",             {},                       bk_proj,        \"Deconvnet\"),\n",
    "    (\"lrp.z\",                 {},                       heatmap,        \"LRP-Z\"),\n",
    "    (\"lrp.epsilon\",           {\"epsilon\": 1},           heatmap,        \"LRP-Epsilon\"),\n",
    "]"
   ]
  },
  {
   "cell_type": "code",
   "execution_count": null,
   "metadata": {
    "_cell_guid": "e54900d2-de61-47fe-8251-e8b79239aa8f",
    "_uuid": "91d073ec-8a8d-4cbf-b41f-9aa52d5601d5"
   },
   "outputs": [],
   "source": [
    "# Create model without trailing softmax\n",
    "model_wo_softmax = iutils.keras.graph.model_wo_softmax(model)\n",
    "\n",
    "# Create analyzers.\n",
    "analyzers = []\n",
    "for method in methods:\n",
    "    analyzer = innvestigate.create_analyzer(method[0],        # analysis method identifier\n",
    "                                            model_wo_softmax, # model without softmax output\n",
    "                                            **method[1])      # optional analysis parameters\n",
    "\n",
    "    # Some analyzers require training.\n",
    "    analyzer.fit(data[0], batch_size=BATCH_SIZE, verbose=1)\n",
    "    analyzers.append(analyzer)"
   ]
  },
  {
   "cell_type": "code",
   "execution_count": null,
   "metadata": {},
   "outputs": [],
   "source": [
    "n = 10\n",
    "test_images = list(zip(data[0][:n], data[1][:n]))\n",
    "\n",
    "analysis = np.zeros([len(test_images), len(analyzers), IMG_SIZE, IMG_SIZE, 3])\n",
    "text = []\n",
    "\n",
    "\n",
    "for i, (x, y) in enumerate(test_images):\n",
    "    # Add batch axis.\n",
    "    x = x[None, :, :, :]\n",
    "    \n",
    "    # Predict final activations, probabilites, and label.\n",
    "    presm = model_wo_softmax.predict_on_batch(x)[0]\n",
    "    prob = model.predict_on_batch(x)[0]\n",
    "    y_hat = prob.argmax()\n",
    "    \n",
    "    # Save prediction info:\n",
    "    text.append((\"%s\" % label_to_class_name[y],    # ground truth label\n",
    "                 \"%.2f\" % presm.max(),             # pre-softmax logits\n",
    "                 \"%.2f\" % prob.max(),              # probabilistic softmax output  \n",
    "                 \"%s\" % label_to_class_name[y_hat] # predicted label\n",
    "                ))\n",
    "\n",
    "    for aidx, analyzer in enumerate(analyzers):\n",
    "        # Analyze.\n",
    "        a = analyzer.analyze(x)\n",
    "        \n",
    "        # Apply common postprocessing, e.g., re-ordering the channels for plotting.\n",
    "        a = postprocess(a)\n",
    "        # Apply analysis postprocessing, e.g., creating a heatmap.\n",
    "        a = methods[aidx][2](a)\n",
    "        # Store the analysis.\n",
    "        analysis[i, aidx] = a[0]"
   ]
  },
  {
   "cell_type": "code",
   "execution_count": null,
   "metadata": {},
   "outputs": [],
   "source": [
    "def plot_image_grid(grid,\n",
    "                    row_labels_left,\n",
    "                    row_labels_right,\n",
    "                    col_labels,\n",
    "                    file_name=None,\n",
    "                    figsize=None,\n",
    "                    dpi=224):\n",
    "    n_rows = len(grid)\n",
    "    n_cols = len(grid[0])\n",
    "    if figsize is None:\n",
    "        figsize = (n_cols, n_rows+1)\n",
    "\n",
    "    plt.clf()\n",
    "    plt.rc(\"font\", family=\"sans-serif\")\n",
    "\n",
    "    plt.figure(figsize=figsize)\n",
    "    for r in range(n_rows):\n",
    "        for c in range(n_cols):\n",
    "            ax = plt.subplot2grid(shape=[n_rows+1, n_cols], loc=[r+1, c])\n",
    "            # TODO controlled color mapping wrt all grid entries,\n",
    "            # or individually. make input param\n",
    "            if grid[r][c] is not None:\n",
    "                ax.imshow(grid[r][c], interpolation='none')\n",
    "            else:\n",
    "                for spine in plt.gca().spines.values():\n",
    "                    spine.set_visible(False)\n",
    "            ax.set_xticks([])\n",
    "            ax.set_yticks([])\n",
    "\n",
    "            # column labels\n",
    "            if not r:\n",
    "                if col_labels != []:\n",
    "                    ax.set_title(col_labels[c],\n",
    "                                 rotation=22.5,\n",
    "                                 horizontalalignment='left',\n",
    "                                 verticalalignment='bottom')\n",
    "\n",
    "            # row labels\n",
    "            if not c:\n",
    "                if row_labels_left != []:\n",
    "                    txt_left = [l+'\\n' for l in row_labels_left[r]]\n",
    "                    ax.set_ylabel(\n",
    "                        ''.join(txt_left),\n",
    "                        rotation=0,\n",
    "                        verticalalignment='center',\n",
    "                        horizontalalignment='right',\n",
    "                    )\n",
    "\n",
    "            if c == n_cols-1:\n",
    "                if row_labels_right != []:\n",
    "                    txt_right = [l+'\\n' for l in row_labels_right[r]]\n",
    "                    ax2 = ax.twinx()\n",
    "                    ax2.set_xticks([])\n",
    "                    ax2.set_yticks([])\n",
    "                    ax2.set_ylabel(\n",
    "                        ''.join(txt_right),\n",
    "                        rotation=0,\n",
    "                        verticalalignment='center',\n",
    "                        horizontalalignment='left'\n",
    "                    )\n",
    "\n",
    "    if file_name is None:\n",
    "        plt.show()\n",
    "    else:\n",
    "        print('Saving figure to {}'.format(file_name))\n",
    "        plt.savefig(file_name, orientation='landscape', dpi=dpi)"
   ]
  },
  {
   "cell_type": "code",
   "execution_count": null,
   "metadata": {
    "scrolled": true
   },
   "outputs": [],
   "source": [
    "EXPLAIN_PATH = os.path.join(\"./outputs/grid.png\")\n",
    "\n",
    "grid = [[analysis[i, j] for j in range(analysis.shape[1])]\n",
    "        for i in range(analysis.shape[0])]\n",
    "# Prepare the labels\n",
    "label, presm, prob, pred = zip(*text)\n",
    "row_labels_left = [('label: {}'.format(label[i]), 'pred: {}'.format(pred[i])) for i in range(len(label))]\n",
    "row_labels_right = [('logit: {}'.format(presm[i]), 'prob: {}'.format(prob[i])) for i in range(len(label))]\n",
    "col_labels = [''.join(method[3]) for method in methods]\n",
    "\n",
    "# Plot the analysis.\n",
    "plot_image_grid(grid, row_labels_left, row_labels_right, col_labels,\n",
    "                       file_name=EXPLAIN_PATH)"
   ]
  },
  {
   "cell_type": "code",
   "execution_count": null,
   "metadata": {},
   "outputs": [],
   "source": [
    "img = [data[0][0], data[1][0]]\n",
    "\n",
    "analysis = np.zeros([1, len(analyzers), IMG_SIZE, IMG_SIZE, 3])\n",
    "text = []\n",
    "\n",
    "\n",
    "#for i, (x, y) in enumerate(test_images):\n",
    "    # Add batch axis.\n",
    "img[0] = img[0][None, :, :, :]\n",
    "\n",
    "# Predict final activations, probabilities, and label.\n",
    "presm = model_wo_softmax.predict_on_batch(img[0])[0]\n",
    "prob = model.predict_on_batch(img[0])[0]\n",
    "y_hat = prob.argmax()\n",
    "\n",
    "# Save prediction info:\n",
    "text.append((\"%s\" % label_to_class_name[img[1]],    # ground truth label\n",
    "             \"%.2f\" % presm.max(),             # pre-softmax logits\n",
    "             \"%.2f\" % prob.max(),              # probabilistic softmax output  \n",
    "             \"%s\" % label_to_class_name[y_hat] # predicted label\n",
    "            ))\n",
    "\n",
    "for aidx, analyzer in enumerate(analyzers):\n",
    "    # Analyze.\n",
    "    a = analyzer.analyze(img[0])\n",
    "\n",
    "    # Apply common postprocessing, e.g., re-ordering the channels for plotting.\n",
    "    a = postprocess(a)\n",
    "    # Apply analysis postprocessing, e.g., creating a heatmap.\n",
    "    a = methods[aidx][2](a)\n",
    "    # Store the analysis.\n",
    "    analysis[0, aidx] = a[0]"
   ]
  },
  {
   "cell_type": "code",
   "execution_count": null,
   "metadata": {},
   "outputs": [],
   "source": [
    "plt.imshow(analysis[0][2])\n",
    "print(\"Predicted: {}\".format(text[0][0]))\n",
    "print(\"Actual: {}\".format(text[0][3]))\n",
    "print(\"Logit: {}\".format(text[0][1]))\n",
    "print(\"Probability: {}\".format(text[0][2]))"
   ]
  },
  {
   "cell_type": "code",
   "execution_count": null,
   "metadata": {},
   "outputs": [],
   "source": [
    "grid = [[analysis[i, j] for j in range(analysis.shape[1])]\n",
    "        for i in range(analysis.shape[0])]\n",
    "# Prepare the labels\n",
    "label, presm, prob, pred = zip(*text)\n",
    "row_labels_left = [('label: {}'.format(label[i]), 'pred: {}'.format(pred[i])) for i in range(len(label))]\n",
    "row_labels_right = [('logit: {}'.format(presm[i]), 'prob: {}'.format(prob[i])) for i in range(len(label))]\n",
    "col_labels = [''.join(method[3]) for method in methods]\n",
    "\n",
    "# Plot the analysis.\n",
    "plot_image_grid(grid, row_labels_left, row_labels_right, col_labels,\n",
    "                       file_name=EXPLAIN_PATH)"
   ]
  },
  {
   "cell_type": "markdown",
   "metadata": {},
   "source": [
    "# Contrastive LRP"
   ]
  },
  {
   "cell_type": "code",
   "execution_count": null,
   "metadata": {},
   "outputs": [],
   "source": [
    "def load_image(path):\n",
    "    img_path = path\n",
    "    img = preprocessing.image.load_img(img_path, target_size=(IMG_SIZE, IMG_SIZE))\n",
    "    x = preprocessing.image.img_to_array(img)\n",
    "    x = np.expand_dims(x, axis=0)\n",
    "    x = preprocess_input(x)\n",
    "    return img, x\n",
    "\n",
    "\n",
    "def rescale(img):\n",
    "    return (img - img.min()) / (img.max() - img.min())\n",
    "\n",
    "\n",
    "def clrp(R, R_dual):\n",
    "    return np.clip(R - R_dual, a_min=0, a_max=None)\n",
    "\n",
    "\n",
    "def plot_images(imgs, suptitle=None, titles=None, show=True, save_path=\".\"):\n",
    "    n = len(imgs)\n",
    "    if titles is None or len(titles) != n:\n",
    "        titles = [\"\"] * n\n",
    "    \n",
    "    fig, axes = plt.subplots(1, n)\n",
    "    fig.set_figwidth(5 * n)\n",
    "#     fig.set_figheight(10)\n",
    "    \n",
    "    if suptitle is not None:\n",
    "        fig.suptitle(suptitle, fontsize=16)\n",
    "    \n",
    "    for ax, img, t in zip(axes, imgs, titles):\n",
    "        ax.set_title(t)\n",
    "        \n",
    "        ax.imshow(img)\n",
    "        ax.get_xaxis().set_visible(False)\n",
    "        ax.get_yaxis().set_visible(False)\n",
    "        \n",
    "    fig.savefig(save_path)\n",
    "        \n",
    "\n",
    "def plot_CLRP(R, R_dual, title=None, save_path=\".\"):\n",
    "    imgs = [rescale(R[0]), rescale(R_dual[0]), rescale(clrp(R, R_dual)[0])]\n",
    "    titles = [\"R\", \"R_dual\", \"CLRP\"]\n",
    "    plot_images(imgs, title, titles, save_path=save_path)\n",
    "    \n",
    "    \n",
    "def conservation(H, Y, error=0.5):\n",
    "    R = H.sum()\n",
    "    c = np.abs((R - Y)/(Y+1e-9)).max()\n",
    "    print(c)\n",
    "    return 0. <= c <= error"
   ]
  },
  {
   "cell_type": "code",
   "execution_count": null,
   "metadata": {},
   "outputs": [],
   "source": [
    "def get_weights(output_size, idx, method=\"CLRP1\"):\n",
    "    W = np.zeros((output_size, 3))\n",
    "\n",
    "    if method == \"CLRP1\":\n",
    "      # concept weights\n",
    "      W[idx, 0] = 1\n",
    "      # not concept weights\n",
    "      W[:, 1] = 1\n",
    "    elif method == \"CLRP2\":\n",
    "       # concept weights\n",
    "       W[idx, 0] = 1\n",
    "       # not concept weights\n",
    "       W[idx, 1] = -1\n",
    "    else:\n",
    "        raise Exception(\"Unknown method\")\n",
    "    \n",
    "    return W\n",
    "\n",
    "\n",
    "def analyze_concept(cmodel, idx, img_pp, rule=\"lrp.sequential_preset_a\", params={}):\n",
    "    _, s = cmodel.layers[-2].output_shape\n",
    "    \n",
    "    W = get_weights(s, idx)\n",
    "    cmodel.get_layer(\"concept\").set_weights([W])\n",
    "    \n",
    "    canalyzer = innvestigate.create_analyzer(rule, cmodel, **params, neuron_selection_mode=\"index\")\n",
    "    \n",
    "    R = canalyzer.analyze(img_pp, 0)\n",
    "    R_dual = canalyzer.analyze(img_pp, 1)\n",
    "    \n",
    "    return R, R_dual"
   ]
  },
  {
   "cell_type": "code",
   "execution_count": null,
   "metadata": {},
   "outputs": [],
   "source": [
    "model_wo_sm = iutils.keras.graph.model_wo_softmax(model)\n",
    "\n",
    "o = keras.layers.Dense(3, use_bias=False, activation='linear', name='concept', trainable=False)(model_wo_sm.output)\n",
    "\n",
    "cmodel = keras.models.Model(inputs=model.input, outputs=o, name='concept_model')\n",
    "cmodel.compile(optimizer='rmsprop', loss='categorical_crossentropy', metrics=['accuracy'])"
   ]
  },
  {
   "cell_type": "code",
   "execution_count": null,
   "metadata": {},
   "outputs": [],
   "source": [
    "label_dict = {j: i for i, j in enumerate(labels)}\n",
    "\n",
    "for label in labels:\n",
    "    for img in tqdm(os.listdir(os.path.join(\"../data/test\", label))):\n",
    "        _, img_pp = load_image(os.path.join(\"../data/test\", label, img))\n",
    "\n",
    "        R, R_dual = analyze_concept(cmodel, label_dict[label], img_pp)\n",
    "        plot_CLRP(R, \n",
    "                  R_dual, \n",
    "                  title=\"Type: {}\".format(label), \n",
    "                  save_path=os.path.join(\"./outputs\", \"test_clrp_\"+label.lower(), img[:-5]+\"_clrp.png\"))"
   ]
  },
  {
   "cell_type": "code",
   "execution_count": null,
   "metadata": {},
   "outputs": [],
   "source": [
    "label_dict = {j:i for i, j in enumerate(labels)}\n",
    "\n",
    "R, R_dual = analyze_concept(cmodel, label_dict[\"NORMAL\"], img_pp)\n",
    "plot_CLRP(R, R_dual, title=\"Test\")"
   ]
  },
  {
   "cell_type": "markdown",
   "metadata": {},
   "source": [
    "# LIME"
   ]
  },
  {
   "cell_type": "code",
   "execution_count": 20,
   "metadata": {},
   "outputs": [],
   "source": [
    "import lime\n",
    "from lime import lime_image\n",
    "from skimage.segmentation import mark_boundaries"
   ]
  },
  {
   "cell_type": "code",
   "execution_count": 21,
   "metadata": {},
   "outputs": [],
   "source": [
    "explainer = lime_image.LimeImageExplainer()"
   ]
  },
  {
   "cell_type": "code",
   "execution_count": 22,
   "metadata": {},
   "outputs": [
    {
     "data": {
      "application/vnd.jupyter.widget-view+json": {
       "model_id": "7ee58d2f25764889a026d6e31fa86279",
       "version_major": 2,
       "version_minor": 0
      },
      "text/plain": [
       "HBox(children=(FloatProgress(value=0.0, max=1000.0), HTML(value='')))"
      ]
     },
     "metadata": {},
     "output_type": "display_data"
    },
    {
     "name": "stdout",
     "output_type": "stream",
     "text": [
      "\n"
     ]
    }
   ],
   "source": [
    "explanation = explainer.explain_instance(data[0][0].astype('double'), \n",
    "                                         model.predict, \n",
    "                                         top_labels=5, \n",
    "                                         hide_color=0, \n",
    "                                         num_samples=1000)"
   ]
  },
  {
   "cell_type": "code",
   "execution_count": 23,
   "metadata": {},
   "outputs": [
    {
     "data": {
      "text/plain": [
       "<matplotlib.image.AxesImage at 0x7f4dc0066090>"
      ]
     },
     "execution_count": 23,
     "metadata": {},
     "output_type": "execute_result"
    },
    {
     "data": {
      "image/png": "[encoded data removed]",
      "text/plain": [
       "<Figure size 432x288 with 1 Axes>"
      ]
     },
     "metadata": {},
     "output_type": "display_data"
    }
   ],
   "source": [
    "temp, mask = explanation.get_image_and_mask(explanation.top_labels[0], \n",
    "                                            positive_only=True, \n",
    "                                            num_features=5, \n",
    "                                            hide_rest=False)\n",
    "plt.imshow(mark_boundaries(temp / 2 + 0.5, mask))"
   ]
  },
  {
   "cell_type": "code",
   "execution_count": null,
   "metadata": {},
   "outputs": [],
   "source": [
    "explainer = lime_image.LimeImageExplainer()\n",
    "n = 3\n",
    "#test_images = list(zip(data[0][:n], data[1][:n]))\n",
    "label_dict = {i:j for i, j in enumerate(labels)}\n",
    "\n",
    "for i, (x, y) in tqdm(enumerate(list(zip(x_test, y_test))), total=len(x_test)):\n",
    "    explanation = explainer.explain_instance(x.astype('double'), \n",
    "                                         model.predict, \n",
    "                                         top_labels=3, \n",
    "                                         hide_color=0, \n",
    "                                         num_samples=1000);\n",
    "    temp, mask = explanation.get_image_and_mask(explanation.top_labels[0], \n",
    "                                            positive_only=True, \n",
    "                                            num_features=5, \n",
    "                                            hide_rest=False)\n",
    "    x = x[None, :, :, :]\n",
    "\n",
    "    fig, ax = plt.subplots(1, 1)\n",
    "    plt.title(\"Pred: {}, Actual: {}\".format(label_dict[np.argmax(model.predict_on_batch(x)[0])], label_dict[y]))\n",
    "    plt.imshow(mark_boundaries(temp / 2 + 0.5, mask))\n",
    "    break\n",
    "    #plt.savefig(os.path.join(\"./outputs\", \"test_lime_\"+label_dict[y].lower(), \"{}.png\".format(i)))"
   ]
  },
  {
   "cell_type": "code",
   "execution_count": null,
   "metadata": {},
   "outputs": [],
   "source": [
    "explainer = lime_image.LimeImageExplainer()\n",
    "n = 3\n",
    "#test_images = list(zip(data[0][:n], data[1][:n]))\n",
    "label_dict = {i:j for i, j in enumerate(labels)}\n",
    "\n",
    "for label in labels:\n",
    "    class_num = labels.index(label) if label != \"BACTERIA_SUB\" else 0\n",
    "    for img in tqdm(os.listdir(os.path.join(\"./data/test\", label))):\n",
    "        img_arr = cv2.imread(os.path.join(\"./data/test\", label, img))\n",
    "        resized_arr = cv2.resize(img_arr, (IMG_SIZE, IMG_SIZE)) # Reshaping images to preferred size\n",
    "        #test_images.append([resized_arr, class_num])\n",
    "        \n",
    "        explanation = explainer.explain_instance(resized_arr.astype('double'), \n",
    "                                                 model.predict, \n",
    "                                                 top_labels=5, \n",
    "                                                 hide_color=0, \n",
    "                                                 num_samples=1000)\n",
    "        temp, mask = explanation.get_image_and_mask(explanation.top_labels[0], \n",
    "                                                    positive_only=True, \n",
    "                                                    num_features=5, \n",
    "                                                    hide_rest=False)\n",
    "        x = x[None, :, :, :]\n",
    "        \n",
    "        plt.title(\"Pred: {}, Actual: {}\".format(label_dict[np.argmax(model.predict_on_batch(x)[0])], label_dict[y]))\n",
    "        plt.imsave(os.path.join(\"./outputs\", \"test_lime_\"+label.lower(), img[:-5]+\"_lime.png\"), \n",
    "                   mark_boundaries(temp / 2 + 0.5, mask))"
   ]
  },
  {
   "cell_type": "code",
   "execution_count": null,
   "metadata": {},
   "outputs": [],
   "source": []
  }
 ],
 "metadata": {
  "kernelspec": {
   "display_name": "Python 3",
   "language": "python",
   "name": "python3"
  },
  "language_info": {
   "codemirror_mode": {
    "name": "ipython",
    "version": 3
   },
   "file_extension": ".py",
   "mimetype": "text/x-python",
   "name": "python",
   "nbconvert_exporter": "python",
   "pygments_lexer": "ipython3",
   "version": "3.7.6"
  }
 },
 "nbformat": 4,
 "nbformat_minor": 4
}
